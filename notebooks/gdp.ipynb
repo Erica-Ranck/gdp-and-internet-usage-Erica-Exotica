{
 "cells": [
  {
   "cell_type": "code",
   "execution_count": 35,
   "id": "5b8489c3",
   "metadata": {},
   "outputs": [],
   "source": [
    "import pandas as pd\n",
    "import numpy as np\n",
    "import matplotlib.pyplot as plt\n",
    "import seaborn as sns"
   ]
  },
  {
   "cell_type": "markdown",
   "id": "4e2e34e2",
   "metadata": {},
   "source": [
    "4. \n",
    "Using the pandas `read_csv()` method, read the GDP dataset into your notebook as a DataFrame called `gdp_df`. Take a look at the first few and last few rows to familiarize yourself with what is contained in this dataset."
   ]
  },
  {
   "cell_type": "code",
   "execution_count": 36,
   "id": "6110ab83",
   "metadata": {
    "scrolled": true
   },
   "outputs": [
    {
     "name": "stdout",
     "output_type": "stream",
     "text": [
      "  Country or Area  Year        Value  Value Footnotes\n",
      "0     Afghanistan  2020  1970.560169              NaN\n",
      "1     Afghanistan  2019  2065.036235              NaN\n",
      "2     Afghanistan  2018  2033.804389              NaN\n",
      "3     Afghanistan  2017  2058.400221              NaN\n",
      "4     Afghanistan  2016  2057.067978              NaN\n",
      "     Country or Area  Year        Value  Value Footnotes\n",
      "7171        Zimbabwe  1994  2603.927369              NaN\n",
      "7172        Zimbabwe  1993  2420.092791              NaN\n",
      "7173        Zimbabwe  1992  2437.152908              NaN\n",
      "7174        Zimbabwe  1991  2733.696626              NaN\n",
      "7175        Zimbabwe  1990  2652.129209              NaN\n"
     ]
    }
   ],
   "source": [
    "gdp_df = pd.read_csv('../data/gdp_percapita.csv')\n",
    "print(gdp_df.head())\n",
    "print(gdp_df.tail())"
   ]
  },
  {
   "cell_type": "markdown",
   "id": "ea7d1add",
   "metadata": {},
   "source": [
    "5. How many rows and columns are in `gdp_df`? What are the data types of each column?\n",
    "There are 4 columns with types float(2), int(1), object(1)"
   ]
  },
  {
   "cell_type": "code",
   "execution_count": 37,
   "id": "28055f82",
   "metadata": {},
   "outputs": [
    {
     "name": "stdout",
     "output_type": "stream",
     "text": [
      "<class 'pandas.core.frame.DataFrame'>\n",
      "RangeIndex: 7176 entries, 0 to 7175\n",
      "Data columns (total 4 columns):\n",
      " #   Column           Non-Null Count  Dtype  \n",
      "---  ------           --------------  -----  \n",
      " 0   Country or Area  7176 non-null   object \n",
      " 1   Year             7176 non-null   int64  \n",
      " 2   Value            7176 non-null   float64\n",
      " 3   Value Footnotes  0 non-null      float64\n",
      "dtypes: float64(2), int64(1), object(1)\n",
      "memory usage: 224.4+ KB\n",
      "None\n"
     ]
    }
   ],
   "source": [
    "print(gdp_df.info())"
   ]
  },
  {
   "cell_type": "markdown",
   "id": "ab7dbeae",
   "metadata": {},
   "source": [
    "6. Drop the `Value Footnotes` column and rename the remaining three to 'Country', 'Year', and 'GDP_Per_Capita'."
   ]
  },
  {
   "cell_type": "code",
   "execution_count": 38,
   "id": "e43e0d1e",
   "metadata": {},
   "outputs": [
    {
     "name": "stdout",
     "output_type": "stream",
     "text": [
      "       Country  Year  GDP_Per_Capita\n",
      "0  Afghanistan  2020     1970.560169\n",
      "1  Afghanistan  2019     2065.036235\n",
      "2  Afghanistan  2018     2033.804389\n",
      "3  Afghanistan  2017     2058.400221\n",
      "4  Afghanistan  2016     2057.067978\n"
     ]
    }
   ],
   "source": [
    "gdp_df = gdp_df.drop(['Value Footnotes'], axis=1)\n",
    "gdp_df = gdp_df.rename(columns={'Country or Area': 'Country', 'Value': 'GDP_Per_Capita'})\n",
    "print(gdp_df.head())\n"
   ]
  },
  {
   "cell_type": "markdown",
   "id": "ae52a7a5",
   "metadata": {},
   "source": [
    "7. How many countries have data for all years? Which countries are missing many years of data? Look at the number of observations per year. What do you notice? "
   ]
  },
  {
   "cell_type": "code",
   "execution_count": 70,
   "id": "f462b5e1",
   "metadata": {},
   "outputs": [
    {
     "name": "stdout",
     "output_type": "stream",
     "text": [
      "Country      Year\n",
      "Afghanistan  2002    1189.784668\n",
      "             2003    1235.810063\n",
      "             2004    1200.278013\n",
      "             2005    1286.793659\n",
      "             2006    1315.789117\n",
      "                        ...     \n",
      "Zimbabwe     2016    2341.304920\n",
      "             2017    2416.049969\n",
      "             2018    2497.136618\n",
      "             2019    2310.634802\n",
      "             2020    2134.555461\n",
      "Name: GDP_Per_Capita, Length: 7176, dtype: float64\n",
      "[0       2020\n",
      "1       2019\n",
      "2       2018\n",
      "3       2017\n",
      "4       2016\n",
      "        ... \n",
      "7171    1994\n",
      "7172    1993\n",
      "7173    1992\n",
      "7174    1991\n",
      "7175    1990\n",
      "Name: Year, Length: 7176, dtype: int64]\n",
      "      Country   Year\n",
      "0       False  False\n",
      "1       False  False\n",
      "2       False  False\n",
      "3       False  False\n",
      "4       False  False\n",
      "...       ...    ...\n",
      "7171    False  False\n",
      "7172    False  False\n",
      "7173    False  False\n",
      "7174    False  False\n",
      "7175    False  False\n",
      "\n",
      "[7176 rows x 2 columns]\n"
     ]
    }
   ],
   "source": [
    "missing_years = print(gdp_df.groupby([\"Country\", \"Year\"])[\"GDP_Per_Capita\"].mean())\n",
    "\n",
    "years = [gdp_df[\"Year\"]]\n",
    "print(years)\n",
    "\n",
    "print(gdp_df[[\"Country\", \"Year\"]].isin(years))\n",
    "\n",
    "country_count = gdp_df.groupby('Country')['Year'].count()\n",
    "country_count = country_count.sort_values(ascending=False)\n",
    "print(country_count)\n"
   ]
  },
  {
   "cell_type": "code",
   "execution_count": 76,
   "id": "7d993f6c",
   "metadata": {},
   "outputs": [
    {
     "name": "stdout",
     "output_type": "stream",
     "text": [
      "Country\n",
      "Least developed countries: UN classification          31\n",
      "Niger                                                 31\n",
      "Middle East & North Africa (excluding high income)    31\n",
      "Middle income                                         31\n",
      "Mongolia                                              31\n",
      "                                                      ..\n",
      "Kosovo                                                13\n",
      "Turks and Caicos Islands                              10\n",
      "Sint Maarten (Dutch part)                             10\n",
      "Somalia                                                8\n",
      "Djibouti                                               8\n",
      "Name: Year, Length: 242, dtype: int64\n"
     ]
    },
    {
     "ename": "TypeError",
     "evalue": "list.count() takes exactly one argument (0 given)",
     "output_type": "error",
     "traceback": [
      "\u001b[1;31m---------------------------------------------------------------------------\u001b[0m",
      "\u001b[1;31mTypeError\u001b[0m                                 Traceback (most recent call last)",
      "Cell \u001b[1;32mIn[76], line 5\u001b[0m\n\u001b[0;32m      2\u001b[0m country_count \u001b[38;5;241m=\u001b[39m country_count\u001b[38;5;241m.\u001b[39msort_values(ascending\u001b[38;5;241m=\u001b[39m\u001b[38;5;28;01mFalse\u001b[39;00m)\n\u001b[0;32m      3\u001b[0m \u001b[38;5;28mprint\u001b[39m(country_count)\n\u001b[1;32m----> 5\u001b[0m countries \u001b[38;5;241m=\u001b[39m gdp_df[[\u001b[38;5;124m\"\u001b[39m\u001b[38;5;124mCountry\u001b[39m\u001b[38;5;124m\"\u001b[39m, \u001b[43m[\u001b[49m\u001b[38;5;124;43m\"\u001b[39;49m\u001b[38;5;124;43mYear\u001b[39;49m\u001b[38;5;124;43m\"\u001b[39;49m\u001b[43m]\u001b[49m\u001b[38;5;241;43m.\u001b[39;49m\u001b[43mcount\u001b[49m\u001b[43m(\u001b[49m\u001b[43m)\u001b[49m \u001b[38;5;241m<\u001b[39m \u001b[38;5;241m30\u001b[39m]]\n\u001b[0;32m      6\u001b[0m \u001b[38;5;28mprint\u001b[39m(countries)\n",
      "\u001b[1;31mTypeError\u001b[0m: list.count() takes exactly one argument (0 given)"
     ]
    }
   ],
   "source": [
    "country_count = gdp_df.groupby('Country')['Year'].count()\n",
    "country_count = country_count.sort_values(ascending=False)\n",
    "print(country_count)\n",
    "\n",
    "countries = gdp_df[[\"Country\", [\"Year\"].count() < 30]]\n",
    "print(countries)"
   ]
  },
  {
   "cell_type": "markdown",
   "id": "225c0632",
   "metadata": {},
   "source": [
    "8. In this question, you're going to create some plots to show the distribution of GDP per capita for the year 2020. Go to the Python Graph Gallery (https://www.python-graph-gallery.com/) and look at the different types of plots under the Distribution section. Create a histogram, a density plot, a boxplot, and a violin plot. What do you notice when you look at these plots? How do the plots compare and what information can you get out of one type that you can't necessarily get out of the others?"
   ]
  },
  {
   "cell_type": "code",
   "execution_count": 85,
   "id": "08c32b88",
   "metadata": {},
   "outputs": [
    {
     "data": {
      "image/png": "[encoded data removed]",
      "text/plain": [
       "<Figure size 640x480 with 1 Axes>"
      ]
     },
     "metadata": {},
     "output_type": "display_data"
    },
    {
     "data": {
      "image/png": "[encoded data removed]",
      "text/plain": [
       "<Figure size 640x480 with 1 Axes>"
      ]
     },
     "metadata": {},
     "output_type": "display_data"
    }
   ],
   "source": [
    "plt.hist(gdp_df['GDP_Per_Capita'])\n",
    "plt.show()\n",
    "\n",
    "sns.set(style=\"darkgrid\")\n",
    "\n",
    "sns.histplot(data=gdp_df, x=\"GDP_Per_Capita\")\n",
    "plt.show()"
   ]
  },
  {
   "cell_type": "code",
   "execution_count": null,
   "id": "d8e601ae",
   "metadata": {},
   "outputs": [],
   "source": []
  }
 ],
 "metadata": {
  "kernelspec": {
   "display_name": "Python 3 (ipykernel)",
   "language": "python",
   "name": "python3"
  },
  "language_info": {
   "codemirror_mode": {
    "name": "ipython",
    "version": 3
   },
   "file_extension": ".py",
   "mimetype": "text/x-python",
   "name": "python",
   "nbconvert_exporter": "python",
   "pygments_lexer": "ipython3",
   "version": "3.10.9"
  }
 },
 "nbformat": 4,
 "nbformat_minor": 5
}
